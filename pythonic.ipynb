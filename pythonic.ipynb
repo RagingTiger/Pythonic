{
 "cells": [
  {
   "cell_type": "markdown",
   "id": "a049c3e3-b27a-4138-9459-a31e044ba0fc",
   "metadata": {},
   "source": [
    "# Pythonic\n",
    "Here we will review examples of what is known as *pythonic*: a style that can only be acquired after *reading* and *writing* very *clear*, *effecient*, and *idiomatic* Python code."
   ]
  },
  {
   "cell_type": "markdown",
   "id": "0ccf8fb5-62ae-4ceb-bc9d-d1477f651426",
   "metadata": {},
   "source": [
    "## Setup\n",
    "First we need to *import* libraries to load our *data*. Throughout this notebook will be using census data from the [Japanese Government](https://www.stat.go.jp/english/data/jinsui/2019np/index.html) on the *population of Japan* by prefectures. [1](https://www.e-stat.go.jp/en/stat-search/files?page=1&layout=datalist&toukei=00200524&tstat=000000090001&cycle=7&year=20190&month=0&tclass1=000001011679)"
   ]
  },
  {
   "cell_type": "code",
   "execution_count": null,
   "id": "be3f4460-9584-4969-b2d5-9413410693ce",
   "metadata": {},
   "outputs": [],
   "source": [
    "# custom libs\n",
    "from packages import data"
   ]
  },
  {
   "cell_type": "markdown",
   "id": "7cf9acdf-dcce-4376-a428-0624edb40470",
   "metadata": {},
   "source": [
    "## 1.1 - Lambda\n",
    "Essentialy, the keyword [lambda](https://docs.python.org/3/tutorial/controlflow.html#lambda-expressions) in Python allows for the creation of [anonymous functions](https://en.wikipedia.org/wiki/Anonymous_function). Here we will explore some uses of `lambda`."
   ]
  },
  {
   "cell_type": "markdown",
   "id": "beca237a-97d1-4bf6-a5dd-9dc1372b9b68",
   "metadata": {},
   "source": [
    "### Sorting\n",
    "One frequently used application of `lambda` can be found in returning the contents of a dictionary sorted."
   ]
  },
  {
   "cell_type": "code",
   "execution_count": null,
   "id": "1a4523c1-6f77-4be7-a7af-4409285484e4",
   "metadata": {},
   "outputs": [],
   "source": [
    "# get Japan population by prefecture\n",
    "jp_pop = data.jp_prefecture_pop()\n",
    "\n",
    "# now show first 10 items\n",
    "list(jp_pop.items())[:10]"
   ]
  },
  {
   "cell_type": "markdown",
   "id": "d26138e2-9478-411e-a72f-d653d3486299",
   "metadata": {},
   "source": [
    "Now what if we wanted to sort this by *prefecture* name? Simple:"
   ]
  },
  {
   "cell_type": "code",
   "execution_count": null,
   "id": "0d2d2202-1a67-4664-af5a-973fbb623187",
   "metadata": {},
   "outputs": [],
   "source": [
    "# show prefectures sorted alphabetical\n",
    "sorted(jp_pop.items())[:10]"
   ]
  },
  {
   "cell_type": "markdown",
   "id": "f11d6941-f8d3-4363-8c77-d6ef8014db6e",
   "metadata": {},
   "source": [
    "But what if we wanted to *sort by population*? Ahhhh now `lambda` becomes useful:"
   ]
  },
  {
   "cell_type": "code",
   "execution_count": null,
   "id": "bd1c03fb-af07-448b-8afa-b2c65be63414",
   "metadata": {
    "tags": []
   },
   "outputs": [],
   "source": [
    "# the top 10 MOST populated prefectures in Japan\n",
    "sorted(jp_pop.items(), key=lambda item: item[1], reverse=True)[:10]"
   ]
  },
  {
   "cell_type": "markdown",
   "id": "bf8603bd-7557-4566-8135-c35ba5d8e3e4",
   "metadata": {},
   "source": [
    "### Filtering\n",
    "Again, like we saw with `sorting`, we can use *lambda* with the built-in generator `filter`. This generator takes a function, and an *iterable*, and returns an *iterator*. Below we will use it to filter our results."
   ]
  },
  {
   "cell_type": "code",
   "execution_count": null,
   "id": "a683e752-91c2-4b6b-8b17-f7be78e7f823",
   "metadata": {},
   "outputs": [],
   "source": [
    "# create new list of prefectures with less than 10^6 people\n",
    "list(filter(lambda item: 1000 > item[1], jp_pop.items()))"
   ]
  },
  {
   "cell_type": "code",
   "execution_count": null,
   "id": "370652c8-d11a-4ad4-ae3e-6307621c7b1c",
   "metadata": {},
   "outputs": [],
   "source": [
    "# now create new list of prefectures with greater than 5 * 10^6 people\n",
    "list(filter(lambda item: 5000 < item[1], jp_pop.items()))"
   ]
  },
  {
   "cell_type": "markdown",
   "id": "387650ed-b06e-4bd8-9cfb-e64be7a81a2d",
   "metadata": {},
   "source": [
    "### Function Composition\n",
    "There may come a point where, in order to effectively solve a problem, you may need to *compose* two or more functions into one:\n",
    "\n",
    "$$\n",
    "f(x) = x + 10\n",
    "\\\\\n",
    "g(x) = x^2\n",
    "\\\\\n",
    "h(x) = g(f(x)) = (x + 10)^2\n",
    "$$\n",
    "\n",
    "This is another insance where `lambda` can be *very useful*."
   ]
  },
  {
   "cell_type": "code",
   "execution_count": null,
   "id": "a0175887-3bae-45cd-9c52-b358619c558f",
   "metadata": {},
   "outputs": [],
   "source": [
    "# create composing function using lambda\n",
    "compose = lambda g, f: lambda x: g(f(x))\n",
    "\n",
    "# now compose two functions\n",
    "composition = compose(lambda x: x ** 2, lambda y: y + 10)\n",
    "\n",
    "# calculate for intergers 0 - 10\n",
    "for i in range(11):\n",
    "    print(composition(i))"
   ]
  },
  {
   "cell_type": "markdown",
   "id": "4a2e3590-f6f7-4bfe-9880-5c53c06c1ae8",
   "metadata": {},
   "source": [
    "## 1.2 - List Comprehension\n",
    "A [list comprehension](https://docs.python.org/3/tutorial/datastructures.html#list-comprehensions) is a powerful and compact way to build a list. Here we will show some examples of using this common syntactic sugar."
   ]
  },
  {
   "cell_type": "markdown",
   "id": "75a0d092-b111-4ff9-b84f-a5be797e1c60",
   "metadata": {},
   "source": [
    "### List of Powers\n",
    "One common use of a *list comprehension* is to generate a list of powers. We will start with the following *exponential* function:\n",
    "\n",
    "$$\n",
    "F(x) = x^n\n",
    "$$\n",
    "\n",
    "We will evaluate this function at $x = n$:\n",
    "\n",
    "$$\n",
    "F(n) = n^n\n",
    "$$"
   ]
  },
  {
   "cell_type": "code",
   "execution_count": null,
   "id": "4192124e-4bfb-4d1d-84ec-bdbbc9a99324",
   "metadata": {},
   "outputs": [],
   "source": [
    "# list of the first powers up to 10\n",
    "power_list = [n**n for n in range(11)]\n",
    "\n",
    "# print results\n",
    "for i, power in enumerate(power_list):\n",
    "    print(f'{i:>2} ^ {i:<2} = {power}')"
   ]
  },
  {
   "cell_type": "markdown",
   "id": "39f4de2a-9bab-4416-a42a-6f19e0b7312c",
   "metadata": {
    "tags": []
   },
   "source": [
    "### List of Power Sequences\n",
    "What if we wanted to create a *list* of the power sequences for the integers up to 10? In other words:\n",
    "\n",
    "$$\n",
    "P = \\{x^n \\mid 0\\leq x\\leq 10 \\mid 0\\leq n\\leq 10\\}\n",
    "$$"
   ]
  },
  {
   "cell_type": "code",
   "execution_count": null,
   "id": "1c871a1c-1573-4519-9906-687f8fd1bd83",
   "metadata": {},
   "outputs": [],
   "source": [
    "# create a list of sequences of powers\n",
    "power_sequences = [[x ** n for n in range(11)] for x in range(11)]\n",
    "\n",
    "# print results\n",
    "for i, seq in enumerate(power_sequences):\n",
    "    print(f'{i:>2} ^ n = {seq}')"
   ]
  },
  {
   "cell_type": "markdown",
   "id": "8dafd2b9-15b5-4dc4-ae67-f31eca464e26",
   "metadata": {
    "tags": []
   },
   "source": [
    "## References\n",
    "+ **1** - [2019 Japan Population Data](https://www.e-stat.go.jp/en/stat-search/files?page=1&layout=datalist&toukei=00200524&tstat=000000090001&cycle=7&year=20190&month=0&tclass1=000001011679)"
   ]
  }
 ],
 "metadata": {
  "kernelspec": {
   "display_name": "Python 3 (ipykernel)",
   "language": "python",
   "name": "python3"
  },
  "language_info": {
   "codemirror_mode": {
    "name": "ipython",
    "version": 3
   },
   "file_extension": ".py",
   "mimetype": "text/x-python",
   "name": "python",
   "nbconvert_exporter": "python",
   "pygments_lexer": "ipython3",
   "version": "3.9.6"
  }
 },
 "nbformat": 4,
 "nbformat_minor": 5
}
