{
 "cells": [
  {
   "cell_type": "markdown",
   "id": "a049c3e3-b27a-4138-9459-a31e044ba0fc",
   "metadata": {},
   "source": [
    "# Python 3: Syntactic Sugar\n",
    "Here we will review examples of what is known as [Syntactic Sugar](https://en.wikipedia.org/wiki/Syntactic_sugar) in *Python 3*."
   ]
  },
  {
   "cell_type": "markdown",
   "id": "0ccf8fb5-62ae-4ceb-bc9d-d1477f651426",
   "metadata": {},
   "source": [
    "## Setup\n",
    "First we need to *import* libraries to load our *data*. Throughout this notebook will be using census data from the [Japanese Government](https://www.stat.go.jp/english/data/jinsui/2019np/index.html) on the *population of Japan* by prefectures. [1](https://www.e-stat.go.jp/en/stat-search/files?page=1&layout=datalist&toukei=00200524&tstat=000000090001&cycle=7&year=20190&month=0&tclass1=000001011679)"
   ]
  },
  {
   "cell_type": "code",
   "execution_count": null,
   "id": "be3f4460-9584-4969-b2d5-9413410693ce",
   "metadata": {},
   "outputs": [],
   "source": [
    "# custom libs\n",
    "from packages import data"
   ]
  },
  {
   "cell_type": "markdown",
   "id": "7cf9acdf-dcce-4376-a428-0624edb40470",
   "metadata": {},
   "source": [
    "## 1.1 - Lambda\n",
    "Essentialy, the keyword [lambda](https://docs.python.org/3/tutorial/controlflow.html#lambda-expressions) in Python allows for the creation of [anonymous functions](https://en.wikipedia.org/wiki/Anonymous_function). Here we will explore some uses of `lambda`."
   ]
  },
  {
   "cell_type": "markdown",
   "id": "beca237a-97d1-4bf6-a5dd-9dc1372b9b68",
   "metadata": {},
   "source": [
    "### Sorting\n",
    "One frequently used application of `lambda` can be found in returning the contents of a dictionary sorted."
   ]
  },
  {
   "cell_type": "code",
   "execution_count": null,
   "id": "1a4523c1-6f77-4be7-a7af-4409285484e4",
   "metadata": {},
   "outputs": [],
   "source": [
    "# get Japan population by prefecture\n",
    "jp_pop = data.jp_prefecture_pop()\n",
    "\n",
    "# now show first 10 items\n",
    "list(jp_pop.items())[:10]"
   ]
  },
  {
   "cell_type": "markdown",
   "id": "d26138e2-9478-411e-a72f-d653d3486299",
   "metadata": {},
   "source": [
    "Now what if we wanted to sort this by *prefecture* name? Simple:"
   ]
  },
  {
   "cell_type": "code",
   "execution_count": null,
   "id": "0d2d2202-1a67-4664-af5a-973fbb623187",
   "metadata": {},
   "outputs": [],
   "source": [
    "# show prefectures sorted alphabetical\n",
    "sorted(jp_pop.items())[:10]"
   ]
  },
  {
   "cell_type": "markdown",
   "id": "f11d6941-f8d3-4363-8c77-d6ef8014db6e",
   "metadata": {},
   "source": [
    "But what if we wanted to *sort by population*? Ahhhh now `lambda` becomes useful:"
   ]
  },
  {
   "cell_type": "code",
   "execution_count": null,
   "id": "bd1c03fb-af07-448b-8afa-b2c65be63414",
   "metadata": {},
   "outputs": [],
   "source": [
    "# the top 10 MOST populated prefectures in Japan\n",
    "sorted(jp_pop.items(), key=lambda item: item[1], reverse=True)[:10]"
   ]
  },
  {
   "cell_type": "markdown",
   "id": "8dafd2b9-15b5-4dc4-ae67-f31eca464e26",
   "metadata": {},
   "source": [
    "## References\n",
    "+ **1** - [2019 Japan Population Data](https://www.e-stat.go.jp/en/stat-search/files?page=1&layout=datalist&toukei=00200524&tstat=000000090001&cycle=7&year=20190&month=0&tclass1=000001011679)"
   ]
  }
 ],
 "metadata": {
  "kernelspec": {
   "display_name": "Python 3 (ipykernel)",
   "language": "python",
   "name": "python3"
  },
  "language_info": {
   "codemirror_mode": {
    "name": "ipython",
    "version": 3
   },
   "file_extension": ".py",
   "mimetype": "text/x-python",
   "name": "python",
   "nbconvert_exporter": "python",
   "pygments_lexer": "ipython3",
   "version": "3.9.6"
  }
 },
 "nbformat": 4,
 "nbformat_minor": 5
}
